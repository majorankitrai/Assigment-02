{
 "cells": [
  {
   "cell_type": "markdown",
   "metadata": {},
   "source": [
    "# Q 1. Write a Python Program to Display Fibonacci Sequence Using Recursion?"
   ]
  },
  {
   "cell_type": "code",
   "execution_count": 3,
   "metadata": {},
   "outputs": [
    {
     "name": "stdout",
     "output_type": "stream",
     "text": [
      "enter your number :10\n",
      "[0, 1, 1, 2, 3, 5, 8, 13, 21, 34, 55]\n"
     ]
    }
   ],
   "source": [
    "#ANS 1.\n",
    "n = int(input(\"enter your number :\"))\n",
    "num =[]\n",
    "num.append(0)\n",
    "num.append(1)\n",
    "num.append(1)\n",
    "for i in range(3,n+1):\n",
    "    num.append(num[i-1]+num[i-2])\n",
    "print(num)"
   ]
  },
  {
   "cell_type": "code",
   "execution_count": 3,
   "metadata": {},
   "outputs": [
    {
     "name": "stdout",
     "output_type": "stream",
     "text": [
      "fibonacci series :\n",
      "0\n",
      "1\n",
      "1\n",
      "2\n",
      "3\n",
      "5\n",
      "8\n",
      "13\n",
      "21\n",
      "34\n"
     ]
    }
   ],
   "source": [
    "#ANS 1.\n",
    "def recursive_fibonacci(n):\n",
    "    if n <= 1:\n",
    "        return n\n",
    "    else:\n",
    "        return (recursive_fibonacci(n-1)+recursive_fibonacci(n-2))\n",
    "n_term = 10\n",
    "if n_term <= 0:\n",
    "    print(\"invalid input! please input new value\")\n",
    "else:\n",
    "    print(\"fibonacci series :\")\n",
    "    \n",
    "for i in range(n_terms):\n",
    "    print(recursive_fibonacci(i))"
   ]
  },
  {
   "cell_type": "markdown",
   "metadata": {},
   "source": [
    "# Q 2. Write a Python Program to Find Factorial of Number Using Recursion?"
   ]
  },
  {
   "cell_type": "code",
   "execution_count": 18,
   "metadata": {},
   "outputs": [
    {
     "name": "stdout",
     "output_type": "stream",
     "text": [
      "factorial of n is  : 720\n"
     ]
    }
   ],
   "source": [
    "#ANS 2.\n",
    "def recursive_factorial(n):\n",
    "    if n == 1:\n",
    "        return n\n",
    "    else:\n",
    "        return n*recursive_factorial(n-1)\n",
    "n = 6\n",
    "if n < 0:\n",
    "    print(\"invalid number\")\n",
    "elif n == 0:\n",
    "    print(\"factorial of 0 is 1\")\n",
    "else:\n",
    "    print(\"factorial of n is  :\",recursive_factorial(n))\n",
    "    "
   ]
  },
  {
   "cell_type": "markdown",
   "metadata": {},
   "source": [
    "# Q 3. Write a Python Program to calculate your Body Mass Index?"
   ]
  },
  {
   "cell_type": "code",
   "execution_count": 26,
   "metadata": {},
   "outputs": [
    {
     "name": "stdout",
     "output_type": "stream",
     "text": [
      "enter weight in kilogram :60\n",
      "enter height in meter :1.77\n",
      "Body Mass index is : 19.15158479364167\n"
     ]
    }
   ],
   "source": [
    "#ANS 3.\n",
    "weight = float(input(\"enter weight in kilogram :\"))\n",
    "height = float(input(\"enter height in meter :\"))\n",
    "BMI = weight/height**2\n",
    "print(\"Body Mass index is :\",BMI)"
   ]
  },
  {
   "cell_type": "markdown",
   "metadata": {},
   "source": [
    "# Q 4. Write a Python Program to calculate the natural logarithm of any number?"
   ]
  },
  {
   "cell_type": "code",
   "execution_count": 29,
   "metadata": {},
   "outputs": [
    {
     "name": "stdout",
     "output_type": "stream",
     "text": [
      "enter yor number :14\n",
      "logrithum base 5 of 14 is :1.6397385131955606\n"
     ]
    }
   ],
   "source": [
    "#ANS 4.\n",
    "import math \n",
    "n = int(input(\"enter yor number :\"))\n",
    "print(\"logrithum base 5 of\", n, \"is :\",end =\"\")\n",
    "print(math.log(n,5))"
   ]
  },
  {
   "cell_type": "markdown",
   "metadata": {},
   "source": [
    "# Q 5. Write a Python Program for cube sum of first n natural numbers?"
   ]
  },
  {
   "cell_type": "code",
   "execution_count": 31,
   "metadata": {},
   "outputs": [
    {
     "name": "stdout",
     "output_type": "stream",
     "text": [
      "enter your number :5\n",
      "sum of 5 natural number is : 225.0\n"
     ]
    }
   ],
   "source": [
    "#ANS 5.\n",
    "n = int(input(\"enter your number :\"))\n",
    "def cube_of_natuarlNumber(n):\n",
    "    sum = (n*(n+1)/2)**2\n",
    "    return sum\n",
    "print(\"sum of\" ,n ,\"natural number is :\",cube_of_natuarlNumber(n))"
   ]
  },
  {
   "cell_type": "code",
   "execution_count": null,
   "metadata": {},
   "outputs": [],
   "source": []
  }
 ],
 "metadata": {
  "kernelspec": {
   "display_name": "Python 3",
   "language": "python",
   "name": "python3"
  },
  "language_info": {
   "codemirror_mode": {
    "name": "ipython",
    "version": 3
   },
   "file_extension": ".py",
   "mimetype": "text/x-python",
   "name": "python",
   "nbconvert_exporter": "python",
   "pygments_lexer": "ipython3",
   "version": "3.6.5"
  }
 },
 "nbformat": 4,
 "nbformat_minor": 2
}
