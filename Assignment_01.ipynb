{
 "cells": [
  {
   "cell_type": "markdown",
   "metadata": {},
   "source": [
    "# Q1. In the below elements which of them are values or an expression? eg:- values can be\n",
    "integer or string and expressions will be mathematical operators.\n",
    "\n",
    "*\n",
    "hello\n",
    "-87.8\n",
    "-\n",
    "/\n",
    "+\n",
    "6\n"
   ]
  },
  {
   "cell_type": "markdown",
   "metadata": {},
   "source": [
    "# ANS 01.\n",
    "*,-,+,/ = Expression \n",
    "\n",
    "hello = string\n",
    "-87.8 = float number   \n",
    "6 = integer\n",
    " # these are are called as Values (line no.4,5,6)"
   ]
  },
  {
   "cell_type": "markdown",
   "metadata": {},
   "source": [
    "# Q2. What is the difference between string and variable?"
   ]
  },
  {
   "cell_type": "markdown",
   "metadata": {},
   "source": [
    "# ANS 2.\n",
    "Variable is something which store the information or data, e.g.(a=8), here 'a' is variable and  '8' is information which is stored in variable 'a'.\n",
    "\n",
    "And string is type of information or data ,which lie under single or double pairs of quotes('',\"\"), like a = \"ankit\",here 'ankit' is string and 'a' is variable."
   ]
  },
  {
   "cell_type": "markdown",
   "metadata": {},
   "source": [
    "# Q 3. Describe three different data types."
   ]
  },
  {
   "cell_type": "markdown",
   "metadata": {},
   "source": [
    "# ANS 3.\n",
    "Three different data types are List,Tuple,Dictionary.\n",
    "List is a data type which is denoted by big bracket \"[ list ]\" ,in list there are  various operations. Like - list.append,list.clear,list.count etc. List is mutable. Example of list is , l = [1,23,4,5]\n",
    "\n",
    "Tuple is also a data type which is denoted by small bracket \"(tuple)\" , in tuple there are two  operations. Like- tuple.index(),tuple.count . Tuple is immutable. Example of tuple is ,t = (1,2,3,4)\n",
    "\n",
    "Dictionary is also a data type which is denoted by querly bracket \"{dictionary}\",in dictionary we again perform various function . Dictionary is also mutable. Example is , dict = {\"k\":\"ankit\",\"z\":[1,2,3,]}.\n"
   ]
  },
  {
   "cell_type": "markdown",
   "metadata": {},
   "source": [
    "# Q 4. What is an expression made up of? What do all expressions do?"
   ]
  },
  {
   "cell_type": "markdown",
   "metadata": {},
   "source": [
    "# ANS 3.\n",
    "Expression is construct made up of variables, operators,combination of values, and combination of opertors that is interpreted to produce some other values.In any programming language, an expression is evaluated as per the precedence of its operators.\n",
    "\n",
    "\n",
    "There are three kinds of expressions: An arithmetic expression evaluates to a single arithmetic value. A character expression evaluates to a single value of type character. A logical or relational expression evaluates to a single logical value.\n"
   ]
  },
  {
   "cell_type": "markdown",
   "metadata": {},
   "source": [
    "# Q5. This assignment statements, like spam = 10. What is the difference between an expression and a statement?\n"
   ]
  },
  {
   "cell_type": "markdown",
   "metadata": {},
   "source": [
    "# ANS 5.\n",
    "Expression is made with value, varible and opertors which evaluated and make a single value, where expression evalate in a single value that is (spam =10) 10.\n",
    "\n",
    "But statement does not evaluate in single value like above."
   ]
  },
  {
   "cell_type": "markdown",
   "metadata": {},
   "source": [
    "# Q 6. After running the following code, what does the variable bacon contain?\n",
    "bacon = 22\n",
    "\n",
    "bacon + 1"
   ]
  },
  {
   "cell_type": "code",
   "execution_count": 5,
   "metadata": {},
   "outputs": [
    {
     "data": {
      "text/plain": [
       "23"
      ]
     },
     "execution_count": 5,
     "metadata": {},
     "output_type": "execute_result"
    }
   ],
   "source": [
    "# ANS 6.\n",
    "bacon = 22\n",
    "bacon + 1\n"
   ]
  },
  {
   "cell_type": "markdown",
   "metadata": {},
   "source": [
    "# Q 7. What should the values of the following two terms be?\n",
    "'spam'+'spamspam'\n",
    "spam * 3"
   ]
  },
  {
   "cell_type": "code",
   "execution_count": 11,
   "metadata": {},
   "outputs": [
    {
     "name": "stdout",
     "output_type": "stream",
     "text": [
      "spamspamspam\n",
      "spamspamspam\n"
     ]
    }
   ],
   "source": [
    "#ANS 7.\n",
    "a = 'spam' + 'spamspam'\n",
    "print(a)\n",
    "\n",
    "b = 'spam' *3\n",
    "print(b)\n",
    "    "
   ]
  },
  {
   "cell_type": "markdown",
   "metadata": {},
   "source": [
    "# Q 8. Why is eggs a valid variable name while 100 is invalid?"
   ]
  },
  {
   "cell_type": "markdown",
   "metadata": {},
   "source": [
    "# ANS 8.\n",
    "To write variable we have some rules ,which we should keep in mind that , we cannot use inbuilt function as variable name , we cannot use space( ) between variabl name.\n",
    "\n",
    "We always take alphabet as a variable name but we can write like - Egg100 as a variable name or Egg_100 as a variable name.\n",
    "We cannot use character as a variable name ,like Eggs@100 cannot be used as variable name.Its wrong way of taking Variable name.\n"
   ]
  },
  {
   "cell_type": "markdown",
   "metadata": {},
   "source": [
    "# Q 9. What three functions can be used to get the integer, floating-point number, or string version of a value?\n"
   ]
  },
  {
   "cell_type": "code",
   "execution_count": 15,
   "metadata": {},
   "outputs": [
    {
     "name": "stdout",
     "output_type": "stream",
     "text": [
      "string is : <class 'str'>\n",
      "integer is  <class 'int'>\n",
      "floating number is : <class 'float'>\n"
     ]
    }
   ],
   "source": [
    "#ANS 9.\n",
    "#int () is for integer\n",
    "#float () is for floating point number\n",
    "#str() is for string\n",
    "\n",
    "A = \"100\"\n",
    "print(\"string is :\", type(A))\n",
    "b = int(A)\n",
    "print(\"integer is \" ,type(b))\n",
    "c = float(A)\n",
    "print(\"floating number is :\", type(c))\n",
    "    \n",
    "\n"
   ]
  },
  {
   "cell_type": "markdown",
   "metadata": {},
   "source": [
    "# Q 10. Why does this expression cause an error? How can you fix it?  \n",
    " 'I have eaten ' + 99 + ' burritos.'"
   ]
  },
  {
   "cell_type": "code",
   "execution_count": 23,
   "metadata": {},
   "outputs": [
    {
     "name": "stdout",
     "output_type": "stream",
     "text": [
      "i have eaten 99 burritos\n"
     ]
    }
   ],
   "source": [
    "#ANS 10.\n",
    "#It cause error because we cannot concatenate string with integer for that we need to typecaste integer into string by str().\n",
    "print(\"i have eaten \" +  str ( 99 )  + \" burritos\")"
   ]
  },
  {
   "cell_type": "code",
   "execution_count": null,
   "metadata": {},
   "outputs": [],
   "source": []
  },
  {
   "cell_type": "code",
   "execution_count": null,
   "metadata": {},
   "outputs": [],
   "source": []
  },
  {
   "cell_type": "code",
   "execution_count": null,
   "metadata": {},
   "outputs": [],
   "source": []
  }
 ],
 "metadata": {
  "kernelspec": {
   "display_name": "Python 3",
   "language": "python",
   "name": "python3"
  },
  "language_info": {
   "codemirror_mode": {
    "name": "ipython",
    "version": 3
   },
   "file_extension": ".py",
   "mimetype": "text/x-python",
   "name": "python",
   "nbconvert_exporter": "python",
   "pygments_lexer": "ipython3",
   "version": "3.6.5"
  }
 },
 "nbformat": 4,
 "nbformat_minor": 2
}
