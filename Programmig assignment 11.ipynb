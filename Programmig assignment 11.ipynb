{
 "cells": [
  {
   "cell_type": "markdown",
   "metadata": {},
   "source": [
    "# Q 1. Write a Python program to find words which are greater than given length k?"
   ]
  },
  {
   "cell_type": "code",
   "execution_count": 59,
   "metadata": {},
   "outputs": [
    {
     "name": "stdout",
     "output_type": "stream",
     "text": [
      "['lets', 'play', 'holi', 'with', 'beautiful', 'colour', 'spread', 'life']\n"
     ]
    }
   ],
   "source": [
    "# ANS 1.\n",
    "s = \"lets play holi with beautiful colour and spread it to life\"\n",
    "k = 3\n",
    "l =[]\n",
    "w = s.split()\n",
    "for i in w:\n",
    "    if len(i) > k:\n",
    "        l.append(i)\n",
    "print(l)"
   ]
  },
  {
   "cell_type": "markdown",
   "metadata": {},
   "source": [
    "# Q 2. Write a Python program for removing i-th character from a string?"
   ]
  },
  {
   "cell_type": "code",
   "execution_count": 62,
   "metadata": {},
   "outputs": [
    {
     "name": "stdout",
     "output_type": "stream",
     "text": [
      "enter your string:ankit is a bad bo\n",
      "enter word which want to removeC:is\n",
      "ankit   a bad bo\n"
     ]
    }
   ],
   "source": [
    "# ANS 2.\n",
    "s = input(\"enter your string:\")\n",
    "remove_term = input(\"enter word which want to removeC:\")\n",
    "print(s.replace(remove_term,\" \"))"
   ]
  },
  {
   "cell_type": "markdown",
   "metadata": {},
   "source": [
    "# Q 3. Write a Python program to split and join a string?"
   ]
  },
  {
   "cell_type": "code",
   "execution_count": 80,
   "metadata": {},
   "outputs": [],
   "source": [
    "# ANS 3.\n",
    "def split_string(string):\n",
    "    s = string.split(\" \")\n",
    "    w = \"-\".join(string)\n",
    "    return s ,w\n",
    "\n"
   ]
  },
  {
   "cell_type": "code",
   "execution_count": 82,
   "metadata": {},
   "outputs": [
    {
     "data": {
      "text/plain": [
       "(['ankit', 'Archit', 'Sharad'], 'a-n-k-i-t- -A-r-c-h-i-t- -S-h-a-r-a-d')"
      ]
     },
     "execution_count": 82,
     "metadata": {},
     "output_type": "execute_result"
    }
   ],
   "source": [
    "split_string(\"ankit Archit Sharad\")\n"
   ]
  },
  {
   "cell_type": "markdown",
   "metadata": {},
   "source": [
    "# Q 4. Write a Python to check if a given string is binary string or not?"
   ]
  },
  {
   "cell_type": "code",
   "execution_count": 86,
   "metadata": {},
   "outputs": [
    {
     "name": "stdout",
     "output_type": "stream",
     "text": [
      "enter your string :10101010\n",
      "10101010 is a binay number\n"
     ]
    }
   ],
   "source": [
    "# ANS 4.\n",
    "string =  input(\"enter your string :\")\n",
    "flag = 0\n",
    "for i in string:\n",
    "    if i != '0' and i != '1':\n",
    "        flag = 1\n",
    "        break\n",
    "        \n",
    "if flag == 0:\n",
    "    print(string,\"is a binay number\")\n",
    "else:\n",
    "    print(string,\"is not a binary number\")"
   ]
  },
  {
   "cell_type": "markdown",
   "metadata": {},
   "source": [
    "# Q 5. Write a Python program to find uncommon words from two Strings?"
   ]
  },
  {
   "cell_type": "code",
   "execution_count": 88,
   "metadata": {},
   "outputs": [
    {
     "name": "stdout",
     "output_type": "stream",
     "text": [
      "['apple', 'aam', 'grapes']\n"
     ]
    }
   ],
   "source": [
    "# ANS 5.\n",
    "a = \"apple banana mango\"\n",
    "b = \"banana aam grapes mango\"\n",
    "l = []\n",
    "split1 = a.split()\n",
    "split2 = b.split()\n",
    "for i in split1:\n",
    "    if i in split2:\n",
    "        pass\n",
    "    else:\n",
    "        l.append(i)\n",
    "for j in split2:\n",
    "    if j in split1:\n",
    "        pass\n",
    "    else:\n",
    "        l.append(j)\n",
    "print(l)"
   ]
  },
  {
   "cell_type": "markdown",
   "metadata": {},
   "source": [
    "# Q 6. Write a Python to find all duplicate characters in string?"
   ]
  },
  {
   "cell_type": "code",
   "execution_count": 91,
   "metadata": {},
   "outputs": [
    {
     "name": "stdout",
     "output_type": "stream",
     "text": [
      "['i', ' ', 'm']\n"
     ]
    }
   ],
   "source": [
    "# ANS 6.\n",
    "s = \"i am i from i\"\n",
    "l = []\n",
    "\n",
    "for i in s:\n",
    "    if i not in l and s.count(i)>1:\n",
    "        l.append(i)\n",
    "print(l)"
   ]
  },
  {
   "cell_type": "markdown",
   "metadata": {},
   "source": [
    "# Q 7. Write a Python Program to check if a string contains any special character?"
   ]
  },
  {
   "cell_type": "code",
   "execution_count": 92,
   "metadata": {},
   "outputs": [
    {
     "name": "stdout",
     "output_type": "stream",
     "text": [
      "string contains special characters\n"
     ]
    }
   ],
   "source": [
    "# ANS 7.\n",
    "n = \"ankit@arrchit#sharad%sarita\"\n",
    "c = 0\n",
    "s = '[@#$%!><?/*():\"\"?|\\]'\n",
    "n.split()\n",
    "for i in range(len(n)):\n",
    "    if n[i] in s:\n",
    "        c = c+1\n",
    "if c:\n",
    "    print(\"string contains special characters\")\n",
    "else:\n",
    "    print(\"string donot contain any charcters\")"
   ]
  },
  {
   "cell_type": "code",
   "execution_count": 94,
   "metadata": {},
   "outputs": [
    {
     "name": "stdout",
     "output_type": "stream",
     "text": [
      "yes, special charcter in string\n"
     ]
    }
   ],
   "source": [
    "import re\n",
    "n = \"ankit@arrchit#sharad%sarita\"\n",
    "regex = re.compile('[@#$%!&]')\n",
    "if regex.search(n)== None:\n",
    "    print(\"no special charcter in string\")\n",
    "else:\n",
    "    print(\"yes, special charcter in string\")"
   ]
  },
  {
   "cell_type": "code",
   "execution_count": null,
   "metadata": {},
   "outputs": [],
   "source": []
  }
 ],
 "metadata": {
  "kernelspec": {
   "display_name": "Python 3",
   "language": "python",
   "name": "python3"
  },
  "language_info": {
   "codemirror_mode": {
    "name": "ipython",
    "version": 3
   },
   "file_extension": ".py",
   "mimetype": "text/x-python",
   "name": "python",
   "nbconvert_exporter": "python",
   "pygments_lexer": "ipython3",
   "version": "3.6.5"
  }
 },
 "nbformat": 4,
 "nbformat_minor": 2
}
