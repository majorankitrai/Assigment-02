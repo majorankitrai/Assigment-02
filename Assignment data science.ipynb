{
 "cells": [
  {
   "cell_type": "markdown",
   "metadata": {},
   "source": [
    "# Q1. Count the number of times iNeuron appears in the string.\n",
    "\n",
    "Text =\"Welcome to iNeuron, You are a part of FSDS Bootcamp 2 in iNeuron. I hope you are enjoying the course by iNeuron\""
   ]
  },
  {
   "cell_type": "code",
   "execution_count": 3,
   "metadata": {},
   "outputs": [
    {
     "data": {
      "text/plain": [
       "3"
      ]
     },
     "execution_count": 3,
     "metadata": {},
     "output_type": "execute_result"
    }
   ],
   "source": [
    "# Ans.\n",
    "Text =\"Welcome to iNeuron, You are a part of FSDS Bootcamp 2 in iNeuron. I hope you are enjoying the course by iNeuron\"\n",
    "Text.count(\"iNeuron\")"
   ]
  },
  {
   "cell_type": "markdown",
   "metadata": {},
   "source": [
    "# Q2.Check if position 5 to 11 ends with the phrase iNeuron. in the string.\n",
    "\n",
    "txt = \"Hello, welcome to FSDS 2.0 at iNeuron.\""
   ]
  },
  {
   "cell_type": "code",
   "execution_count": 7,
   "metadata": {},
   "outputs": [
    {
     "data": {
      "text/plain": [
       "False"
      ]
     },
     "execution_count": 7,
     "metadata": {},
     "output_type": "execute_result"
    }
   ],
   "source": [
    "#ans.\n",
    "txt = \"Hello, welcome to FSDS 2.0 at iNeuron.\"\n",
    "txt[5:11]== \"iNeuron\""
   ]
  },
  {
   "cell_type": "markdown",
   "metadata": {},
   "source": [
    "# Q3.Write a program that takes your full name as input and displays the abbreviations of the first and middle names except the last name which is displayed as it is. For example, if your name is Sunny Bhaveen Chandra, then the output should be S.B.Chandra."
   ]
  },
  {
   "cell_type": "code",
   "execution_count": 4,
   "metadata": {},
   "outputs": [
    {
     "name": "stdout",
     "output_type": "stream",
     "text": [
      "enter your name :Sunny Bhaveen Chandra\n",
      "S B Chandra\n"
     ]
    }
   ],
   "source": [
    "# Ans.\n",
    "name = input(\"enter your name :\")\n",
    "first_name,middle_name,sir_name = name.split(\" \")\n",
    "print(first_name[0],middle_name[0],sir_name)\n",
    "\n"
   ]
  },
  {
   "cell_type": "markdown",
   "metadata": {},
   "source": [
    "# Q4.Join all items in a list into a string, using a hash(#) character as separator:\n",
    "\n",
    "LIST = [\"My\", \"name\", \"is\", \"Rishav\", \"Dash\"]"
   ]
  },
  {
   "cell_type": "code",
   "execution_count": 8,
   "metadata": {},
   "outputs": [
    {
     "name": "stdout",
     "output_type": "stream",
     "text": [
      "['My#name#is#Rishav#Dash']\n"
     ]
    }
   ],
   "source": [
    "#Ans.\n",
    "l =[]\n",
    "LIST = [\"My\", \"name\", \"is\", \"Rishav\", \"Dash\"]\n",
    "b = \"#\".join(LIST)\n",
    "l.append(b)\n",
    "print(l)"
   ]
  },
  {
   "cell_type": "markdown",
   "metadata": {},
   "source": [
    "# Q5.Write example for the following string manipulation function,\n",
    "\n",
    "- isdecimal()\n",
    "- islower()\n",
    "- isupper()\n",
    "- isalpha()\n",
    "- isnumeric() "
   ]
  },
  {
   "cell_type": "code",
   "execution_count": 11,
   "metadata": {},
   "outputs": [
    {
     "name": "stdout",
     "output_type": "stream",
     "text": [
      " A is in decimal : False\n",
      " A is in lower case : False\n",
      " A is in upper case : False\n",
      " A is in alpha case : False\n",
      " A is in numeric case : False\n"
     ]
    }
   ],
   "source": [
    "#Ans.\n",
    "A = \"the is good to be Honest\"\n",
    "print(f\" A is in decimal : {A.isdecimal()}\")\n",
    "print(f\" A is in lower case : {A.islower()}\")\n",
    "print(f\" A is in upper case : {A.isupper()}\")\n",
    "print(f\" A is in alpha case : {A.isalpha()}\")\n",
    "print(f\" A is in numeric case : {A.isnumeric()}\")\n"
   ]
  },
  {
   "cell_type": "code",
   "execution_count": 13,
   "metadata": {},
   "outputs": [
    {
     "data": {
      "text/plain": [
       "False"
      ]
     },
     "execution_count": 13,
     "metadata": {},
     "output_type": "execute_result"
    }
   ],
   "source": [
    "A = \"45.455\"\n",
    "A.isdecimal()"
   ]
  },
  {
   "cell_type": "code",
   "execution_count": 14,
   "metadata": {},
   "outputs": [
    {
     "data": {
      "text/plain": [
       "True"
      ]
     },
     "execution_count": 14,
     "metadata": {},
     "output_type": "execute_result"
    }
   ],
   "source": [
    "A = \"ankit\"\n",
    "A.islower()"
   ]
  },
  {
   "cell_type": "code",
   "execution_count": 15,
   "metadata": {},
   "outputs": [
    {
     "data": {
      "text/plain": [
       "True"
      ]
     },
     "execution_count": 15,
     "metadata": {},
     "output_type": "execute_result"
    }
   ],
   "source": [
    "A = \"ANKIT\"\n",
    "A.isupper()"
   ]
  },
  {
   "cell_type": "code",
   "execution_count": 17,
   "metadata": {},
   "outputs": [
    {
     "data": {
      "text/plain": [
       "True"
      ]
     },
     "execution_count": 17,
     "metadata": {},
     "output_type": "execute_result"
    }
   ],
   "source": [
    "A = \"ankit\"\n",
    "A.isalpha()"
   ]
  },
  {
   "cell_type": "code",
   "execution_count": 18,
   "metadata": {},
   "outputs": [
    {
     "data": {
      "text/plain": [
       "True"
      ]
     },
     "execution_count": 18,
     "metadata": {},
     "output_type": "execute_result"
    }
   ],
   "source": [
    "A = \"4646444\"\n",
    "A.isnumeric()"
   ]
  },
  {
   "cell_type": "markdown",
   "metadata": {},
   "source": [
    "# Q6.Indian PAN card format follows the following formats -\n",
    "\n",
    "AYEPC7894X\n",
    "ABCDE9999Y Take user input for PAN_CARD and validate as per the above example."
   ]
  },
  {
   "cell_type": "code",
   "execution_count": 11,
   "metadata": {},
   "outputs": [
    {
     "name": "stdout",
     "output_type": "stream",
     "text": [
      "enter your Pan card number :ABCDE9995Y\n",
      "this is Pan card number\n"
     ]
    }
   ],
   "source": [
    "# Ans\n",
    "Pan_number = input(\"enter your Pan card number :\")\n",
    "if len(Pan_number) == 10 and Pan_number.isalnum :\n",
    "    print(\"this is Pan card number\")\n",
    "else:\n",
    "    print(\"incorrect pan card number\")"
   ]
  },
  {
   "cell_type": "code",
   "execution_count": null,
   "metadata": {},
   "outputs": [],
   "source": []
  }
 ],
 "metadata": {
  "kernelspec": {
   "display_name": "Python 3",
   "language": "python",
   "name": "python3"
  },
  "language_info": {
   "codemirror_mode": {
    "name": "ipython",
    "version": 3
   },
   "file_extension": ".py",
   "mimetype": "text/x-python",
   "name": "python",
   "nbconvert_exporter": "python",
   "pygments_lexer": "ipython3",
   "version": "3.6.5"
  }
 },
 "nbformat": 4,
 "nbformat_minor": 2
}
