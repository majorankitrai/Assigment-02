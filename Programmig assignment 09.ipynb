{
 "cells": [
  {
   "cell_type": "markdown",
   "metadata": {},
   "source": [
    "# Q 1. Write a Python program to check if the given number is a Disarium Number?"
   ]
  },
  {
   "cell_type": "code",
   "execution_count": 40,
   "metadata": {},
   "outputs": [],
   "source": [
    "#ANS 1.\n",
    "def is_disarium(num):\n",
    "    temp = 0\n",
    "    for i in range(len(str(num))):\n",
    "        temp += int(str(num)[i]) ** (i + 1)\n",
    "    return temp == num\n"
   ]
  },
  {
   "cell_type": "code",
   "execution_count": 41,
   "metadata": {},
   "outputs": [
    {
     "data": {
      "text/plain": [
       "True"
      ]
     },
     "execution_count": 41,
     "metadata": {},
     "output_type": "execute_result"
    }
   ],
   "source": [
    "is_disarium(89)"
   ]
  },
  {
   "cell_type": "markdown",
   "metadata": {},
   "source": [
    "# Q 2. Write a Python program to print all disarium numbers between 1 to 100?"
   ]
  },
  {
   "cell_type": "code",
   "execution_count": 1,
   "metadata": {},
   "outputs": [
    {
     "name": "stdout",
     "output_type": "stream",
     "text": [
      "Disarium numbers between 1 and 100 are\n",
      "1\n",
      "2\n",
      "3\n",
      "4\n",
      "5\n",
      "6\n",
      "7\n",
      "8\n",
      "9\n",
      "89\n"
     ]
    }
   ],
   "source": [
    "def calculateLength(n):    \n",
    "    length = 0;    \n",
    "    while(n != 0):    \n",
    "        length = length + 1;    \n",
    "        n = n//10;    \n",
    "    return length\n",
    "def sumOfDigits(num):    \n",
    "    rem = sum = 0;    \n",
    "    len = calculateLength(num);    \n",
    "        \n",
    "    while(num > 0):    \n",
    "        rem = num%10;    \n",
    "        sum = sum + (rem**len);    \n",
    "        num = num//10;    \n",
    "        len = len - 1;    \n",
    "    return sum\n",
    "result = 0;    \n",
    "     \n",
    "   \n",
    "print(\"Disarium numbers between 1 and 100 are\");    \n",
    "for i in range(1, 101):    \n",
    "    result = sumOfDigits(i);    \n",
    "        \n",
    "    if(result == i):    \n",
    "        print(i),    "
   ]
  },
  {
   "cell_type": "markdown",
   "metadata": {},
   "source": [
    "# Q 3. Write a Python program to check if the given number is Happy Number?"
   ]
  },
  {
   "cell_type": "code",
   "execution_count": 3,
   "metadata": {},
   "outputs": [
    {
     "name": "stdout",
     "output_type": "stream",
     "text": [
      "enter number :13\n",
      "13 is a happy number\n"
     ]
    }
   ],
   "source": [
    "#ANS 3.\n",
    "def sumofdigits(n):\n",
    "    res = 0\n",
    "    while n>0:\n",
    "        rem = n%10\n",
    "        res = res + rem*rem\n",
    "        n = n // 10\n",
    "    return res\n",
    "\n",
    "n = int(input(\"enter number :\"))\n",
    "result = n\n",
    "while result !=1 and result != 4:\n",
    "    result =  sumofdigits(result)\n",
    "if result == 1:\n",
    "    print(n,\"is a happy number\")\n",
    "else:\n",
    "    print(n,\"is not a happy number\")"
   ]
  },
  {
   "cell_type": "markdown",
   "metadata": {},
   "source": [
    "# Q 4. Write a Python program to print all happy numbers between 1 and 100?"
   ]
  },
  {
   "cell_type": "code",
   "execution_count": 7,
   "metadata": {},
   "outputs": [
    {
     "name": "stdout",
     "output_type": "stream",
     "text": [
      "happy number between 1 and 100 :\n",
      "1\n",
      "7\n",
      "10\n",
      "13\n",
      "19\n",
      "23\n",
      "28\n",
      "31\n",
      "32\n",
      "44\n",
      "49\n",
      "68\n",
      "70\n",
      "79\n",
      "82\n",
      "86\n",
      "91\n",
      "94\n",
      "97\n"
     ]
    }
   ],
   "source": [
    "# ANS 4.\n",
    "def sumofdigit(n):\n",
    "    res= 0\n",
    "    while n>0:\n",
    "        rem = n %10\n",
    "        res= res+rem*rem\n",
    "        n=n//10\n",
    "    return res\n",
    "print(\"happy number between 1 and 100 :\")\n",
    "for i in range(1,100):\n",
    "    result = i\n",
    "    while result !=1 and result !=4:\n",
    "        result = sumofdigit(result)\n",
    "    if result == 1:\n",
    "        print(i)"
   ]
  },
  {
   "cell_type": "markdown",
   "metadata": {},
   "source": [
    "# Q 5. Write a Python program to determine whether the given number is a Harshad Number?"
   ]
  },
  {
   "cell_type": "code",
   "execution_count": 10,
   "metadata": {},
   "outputs": [
    {
     "name": "stdout",
     "output_type": "stream",
     "text": [
      "enter your nunber:18\n",
      "18 is a harshad number\n"
     ]
    }
   ],
   "source": [
    "# ANS 5.\n",
    "n =  int(input(\"enter your nunber:\"))\n",
    "x =n\n",
    "sum =0\n",
    "while x>0:\n",
    "    rem = x%10\n",
    "    sum = sum + rem\n",
    "    x=x//10\n",
    "if n%sum ==0:\n",
    "    print(n,\"is a harshad number\")\n",
    "else:\n",
    "    print(n,\"is not harshad number\")"
   ]
  },
  {
   "cell_type": "markdown",
   "metadata": {},
   "source": [
    "# Q 6. Write a Python program to print all pronic numbers between 1 and 100?"
   ]
  },
  {
   "cell_type": "code",
   "execution_count": 6,
   "metadata": {},
   "outputs": [
    {
     "name": "stdout",
     "output_type": "stream",
     "text": [
      "pronic number between 1 to 100 :\n",
      "2\n",
      "6\n",
      "12\n",
      "20\n",
      "30\n",
      "42\n",
      "56\n",
      "72\n",
      "90\n"
     ]
    }
   ],
   "source": [
    "# ANS 6.\n",
    " \n",
    "def pronicnumber(n):\n",
    "    flag = 0\n",
    "    for i in range(1,n+1):\n",
    "        if (i*(i+1))==n:\n",
    "            flag = 1\n",
    "            break\n",
    "    return flag\n",
    "print(\"pronic number between 1 to 100 :\")\n",
    "for j in range(1,101):\n",
    "    if (pronicnumber(j)):\n",
    "        print(j)"
   ]
  },
  {
   "cell_type": "code",
   "execution_count": null,
   "metadata": {},
   "outputs": [],
   "source": []
  }
 ],
 "metadata": {
  "kernelspec": {
   "display_name": "Python 3",
   "language": "python",
   "name": "python3"
  },
  "language_info": {
   "codemirror_mode": {
    "name": "ipython",
    "version": 3
   },
   "file_extension": ".py",
   "mimetype": "text/x-python",
   "name": "python",
   "nbconvert_exporter": "python",
   "pygments_lexer": "ipython3",
   "version": "3.6.5"
  }
 },
 "nbformat": 4,
 "nbformat_minor": 2
}
