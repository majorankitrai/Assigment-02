{
 "cells": [
  {
   "cell_type": "markdown",
   "metadata": {},
   "source": [
    "# Q 1.What are the two values of the Boolean data type? How do you write them?"
   ]
  },
  {
   "cell_type": "markdown",
   "metadata": {},
   "source": [
    "# ANS 1.\n",
    "The two values of Boolean data type is True and False.\n",
    "\n",
    "We write them using capital letter \"T\" of True and Capital letter \"F\" of False and rest of alphabet in small letter. This means we write first alphabet as capital letter.."
   ]
  },
  {
   "cell_type": "markdown",
   "metadata": {},
   "source": [
    "# Q 2. What are the three different types of Boolean operators?"
   ]
  },
  {
   "cell_type": "markdown",
   "metadata": {},
   "source": [
    "# ANS 2.\n",
    "The three different types of Boolean operators.These are as follows:\n",
    "    1. AND\n",
    "    2. OR\n",
    "    3. NOT\n",
    "\n",
    "In AND : True + True = True\n",
    "        \n",
    "        True + False = False\n",
    "         \n",
    "         False + True = False\n",
    "         \n",
    "         False + False = False\n",
    "\n",
    "In OR:  True + True =  True \n",
    "        \n",
    "        True + False = True\n",
    "       \n",
    "       False + False= False\n",
    "       \n",
    "       False + True = True\n",
    "\n",
    "In NOT: False + True = True\n",
    "        \n",
    "        False + False = True\n",
    "        \n",
    "        True + False =  False\n",
    "        \n",
    "        True + True  = False\n",
    "        "
   ]
  },
  {
   "cell_type": "markdown",
   "metadata": {},
   "source": [
    "# Q 3. Make a list of each Boolean operator truth tables (i.e. every possible combination of Boolean values for the operator and what it evaluate ).\n"
   ]
  },
  {
   "cell_type": "markdown",
   "metadata": {},
   "source": [
    "# ANS 3.\n",
    "\n",
    "The three different types of Boolean operators.These are as follows:\n",
    "\n",
    "1. AND\n",
    "2. OR\n",
    "3. NOT\n",
    "\n",
    "In AND : True + True = True\n",
    "\n",
    "    True + False = False\n",
    "\n",
    "     False + True = False\n",
    "\n",
    "     False + False = False\n",
    "\n",
    "In OR: True + True = True\n",
    "\n",
    "    True + False = True\n",
    "\n",
    "   False + False= False\n",
    "\n",
    "   False + True = True\n",
    "\n",
    "In NOT: False + True = True\n",
    "\n",
    "    False + False = True\n",
    "\n",
    "    True + False =  False\n",
    "\n",
    "    True + True  = False"
   ]
  },
  {
   "cell_type": "markdown",
   "metadata": {},
   "source": [
    "# Q 4. What are the values of the following expressions?\n",
    "(5 > 4) and (3 == 5)\n",
    "not (5 > 4)\n",
    "(5 > 4) or (3 == 5)\n",
    "not ((5 > 4) or (3 == 5))\n",
    "(True and True) and (True == False)\n",
    "(not False) or (not True)"
   ]
  },
  {
   "cell_type": "code",
   "execution_count": 27,
   "metadata": {},
   "outputs": [
    {
     "name": "stdout",
     "output_type": "stream",
     "text": [
      "a is : False\n",
      "b is : False\n",
      "c is : True\n",
      "d is : False\n",
      "e is : False\n",
      "f is : True\n"
     ]
    }
   ],
   "source": [
    "# ANS 4.\n",
    "a = 5>4 and 3==5\n",
    "print(\"a is :\",a)\n",
    "b = not 5>4\n",
    "print(\"b is :\" ,b)\n",
    "c = 5>4 or 3==5\n",
    "print(\"c is :\", c)\n",
    "d = not 5>4 or 3==5\n",
    "print(\"d is :\",d)\n",
    "e = (True and True) and (True == False)\n",
    "print(\"e is :\",e)\n",
    "f = (not False) or (not True)\n",
    "print(\"f is :\",f)\n"
   ]
  },
  {
   "cell_type": "markdown",
   "metadata": {},
   "source": [
    "# Q 5. What are the six comparison operators?"
   ]
  },
  {
   "cell_type": "markdown",
   "metadata": {},
   "source": [
    "# ANS 5.\n",
    "There are six main comparison operators: equal to(=),not equal to(!=), greater than(>), greater than or equal to(>=), less than(<), and less than or equal to(<=)"
   ]
  },
  {
   "cell_type": "markdown",
   "metadata": {},
   "source": [
    "# Q 6. How do you tell the difference between the equal to and assignment operators?Describe a condition and when you would use one.\n"
   ]
  },
  {
   "cell_type": "code",
   "execution_count": 29,
   "metadata": {},
   "outputs": [
    {
     "name": "stdout",
     "output_type": "stream",
     "text": [
      "5 is equal to 5: True\n",
      "assign value of a is : 6\n"
     ]
    }
   ],
   "source": [
    "# ANS 6.\n",
    "# We use single or one (=) equal to assign the value  and we use double (==) equal to check whether both values are equal.If values are equal it return as 'True'.\n",
    "# We use single equal to assign value in right hand side of variable.\n",
    "\n",
    "a = 5==5\n",
    "print(\"5 is equal to 5:\" ,a)\n",
    "a = 6\n",
    "print(\"assign value of a is :\",a)\n"
   ]
  },
  {
   "cell_type": "markdown",
   "metadata": {},
   "source": [
    "# Q 7. Identify the three blocks in this code:\n",
    "spam = 0\n",
    "if spam == 10:\n",
    "print('eggs')\n",
    "if spam > 5:\n",
    "print('bacon')\n",
    "else:\n",
    "print('ham')\n",
    "print('spam')\n",
    "print('spam')"
   ]
  },
  {
   "cell_type": "code",
   "execution_count": 31,
   "metadata": {},
   "outputs": [
    {
     "name": "stdout",
     "output_type": "stream",
     "text": [
      "ham\n",
      "spam\n",
      "spam\n"
     ]
    }
   ],
   "source": [
    "#ANS 7.\n",
    "spam = 0\n",
    "if spam == 10:\n",
    "    print(\"eggs\")\n",
    "if spam > 5:\n",
    "    print(\"bacon\")\n",
    "else:\n",
    "    print('ham')\n",
    "    print(\"spam\")\n",
    "    print(\"spam\")"
   ]
  },
  {
   "cell_type": "markdown",
   "metadata": {},
   "source": [
    "# Q 8. Write code that prints Hello if 1 is stored in spam, prints Howdy if 2 is stored in spam, and prints Greetings! if anything else is stored in spam.\n"
   ]
  },
  {
   "cell_type": "code",
   "execution_count": 38,
   "metadata": {},
   "outputs": [
    {
     "name": "stdout",
     "output_type": "stream",
     "text": [
      "enter valur :3\n",
      "Greetings!\n"
     ]
    }
   ],
   "source": [
    "# ANS 8.\n",
    "spam = int(input(\"enter valur :\"))\n",
    "if spam == 1:\n",
    "    print(\"Hello\")\n",
    "elif spam == 2:\n",
    "    print(\"Howdy\")\n",
    "else:\n",
    "    print(\"Greetings!\")\n"
   ]
  },
  {
   "cell_type": "markdown",
   "metadata": {},
   "source": [
    "# Q 9.If your programme is stuck in an endless loop, what keys you’ll press?"
   ]
  },
  {
   "cell_type": "markdown",
   "metadata": {},
   "source": [
    "# ANS 9.\n",
    "if my programms is stuck in endless loop ,then we press 'ctrl+c'."
   ]
  },
  {
   "cell_type": "markdown",
   "metadata": {},
   "source": [
    "# Q 10. How can you tell the difference between break and continue?"
   ]
  },
  {
   "cell_type": "markdown",
   "metadata": {},
   "source": [
    "# ANS 10.\n",
    "Break statement is used to stop the execution of the loop at a specific condition.In the break statement, the control exits from the loop.\n",
    "\n",
    "Continue statement is used to  skip a particular iteration of the loop.In the continue statement, the control remains within the loop."
   ]
  },
  {
   "cell_type": "markdown",
   "metadata": {},
   "source": [
    "# Q 11. In a for loop, what is the difference between range(10), range(0, 10), and range(0, 10, 1)?"
   ]
  },
  {
   "cell_type": "markdown",
   "metadata": {},
   "source": [
    "# ANS 11.\n",
    "Their is no any difference between range(10),range(0,10),range(0,10,1) in for loop. On running loop we got same answer for every range given here.\n",
    "\n"
   ]
  },
  {
   "cell_type": "markdown",
   "metadata": {},
   "source": [
    "# Q 12. Write a short program that prints the numbers 1 to 10 using a for loop. Then write an equivalent program that prints the numbers 1 to 10 using a while loop.\n"
   ]
  },
  {
   "cell_type": "code",
   "execution_count": 51,
   "metadata": {},
   "outputs": [
    {
     "name": "stdout",
     "output_type": "stream",
     "text": [
      "1\n",
      "2\n",
      "3\n",
      "4\n",
      "5\n",
      "6\n",
      "7\n",
      "8\n",
      "9\n",
      "10\n"
     ]
    }
   ],
   "source": [
    "# ANS 12.\n",
    "for i in range(1,11):\n",
    "    print(i)"
   ]
  },
  {
   "cell_type": "code",
   "execution_count": 52,
   "metadata": {},
   "outputs": [
    {
     "name": "stdout",
     "output_type": "stream",
     "text": [
      "1\n",
      "2\n",
      "3\n",
      "4\n",
      "5\n",
      "6\n",
      "7\n",
      "8\n",
      "9\n",
      "10\n"
     ]
    }
   ],
   "source": [
    "i = 1\n",
    "while i <=10:\n",
    "    print(i)\n",
    "    i = i +1\n"
   ]
  },
  {
   "cell_type": "markdown",
   "metadata": {},
   "source": [
    "# Q 13. If you had a function named bacon() inside a module named spam, how would you call it after importing spam?\n"
   ]
  },
  {
   "cell_type": "markdown",
   "metadata": {},
   "source": [
    "# ANS 13.\n",
    "if i have a function name Bacon() inside a module name spam , i call it as,\n",
    "\n",
    "from spam import Bacon()"
   ]
  },
  {
   "cell_type": "code",
   "execution_count": null,
   "metadata": {},
   "outputs": [],
   "source": []
  },
  {
   "cell_type": "code",
   "execution_count": null,
   "metadata": {},
   "outputs": [],
   "source": []
  }
 ],
 "metadata": {
  "kernelspec": {
   "display_name": "Python 3",
   "language": "python",
   "name": "python3"
  },
  "language_info": {
   "codemirror_mode": {
    "name": "ipython",
    "version": 3
   },
   "file_extension": ".py",
   "mimetype": "text/x-python",
   "name": "python",
   "nbconvert_exporter": "python",
   "pygments_lexer": "ipython3",
   "version": "3.6.5"
  }
 },
 "nbformat": 4,
 "nbformat_minor": 2
}
