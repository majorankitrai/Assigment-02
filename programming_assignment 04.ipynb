{
 "cells": [
  {
   "cell_type": "markdown",
   "metadata": {},
   "source": [
    "# Q 1. Write a Python Program to Find the Factorial of a Number?"
   ]
  },
  {
   "cell_type": "code",
   "execution_count": 31,
   "metadata": {},
   "outputs": [
    {
     "name": "stdout",
     "output_type": "stream",
     "text": [
      "enter a number :6\n",
      "factorials one by one are : 6\n",
      "factorials one by one are : 12\n",
      "factorials one by one are : 18\n",
      "factorials one by one are : 24\n",
      "factorials one by one are : 30\n",
      "factorials one by one are : 36\n",
      "the factorial of 6 is 720\n"
     ]
    }
   ],
   "source": [
    "# ANS 1.\n",
    "n = int(input(\"enter a number :\"))\n",
    "factorial = 1\n",
    "for i in range(1,n+1):\n",
    "    print(\"factorials one by one are :\",n*i)\n",
    "    factorial = factorial*i\n",
    "\n",
    "print(\"the factorial of\",n,\"is\",factorial)\n"
   ]
  },
  {
   "cell_type": "markdown",
   "metadata": {},
   "source": [
    "# Q 2. Write a Python Program to Display the multiplication Table?"
   ]
  },
  {
   "cell_type": "code",
   "execution_count": 35,
   "metadata": {},
   "outputs": [
    {
     "name": "stdout",
     "output_type": "stream",
     "text": [
      "enter number for table :2\n",
      "2 * 1 = 2\n",
      "2 * 2 = 4\n",
      "2 * 3 = 6\n",
      "2 * 4 = 8\n",
      "2 * 5 = 10\n",
      "2 * 6 = 12\n",
      "2 * 7 = 14\n",
      "2 * 8 = 16\n",
      "2 * 9 = 18\n",
      "2 * 10 = 20\n"
     ]
    }
   ],
   "source": [
    "# ANS 2.\n",
    "n = int(input(\"enter number for table :\"))\n",
    "\n",
    "for i in range(1,11):\n",
    "    print(n,\"*\",i,\"=\",n*i)\n",
    " "
   ]
  },
  {
   "cell_type": "markdown",
   "metadata": {},
   "source": [
    "# Q 3. Write a Python Program to Print the Fibonacci sequence?"
   ]
  },
  {
   "cell_type": "code",
   "execution_count": 15,
   "metadata": {},
   "outputs": [
    {
     "name": "stdout",
     "output_type": "stream",
     "text": [
      "enter number :10\n",
      "[0, 1, 1, 2, 3, 5, 8, 13, 21, 34, 55]\n"
     ]
    }
   ],
   "source": [
    "# ANS 3.\n",
    "a = int(input(\"enter number :\"))\n",
    "num=[]\n",
    "num.append(0)\n",
    "num.append(1)\n",
    "num.append(1)\n",
    "\n",
    "for i in range(3,a+1):\n",
    "    num.append(num[i-1]+num[i-2])\n",
    "print(num)\n",
    "    "
   ]
  },
  {
   "cell_type": "markdown",
   "metadata": {},
   "source": [
    "# Q 4. Write a Python Program to Check Armstrong Number?"
   ]
  },
  {
   "cell_type": "code",
   "execution_count": 27,
   "metadata": {},
   "outputs": [
    {
     "name": "stdout",
     "output_type": "stream",
     "text": [
      "enter a number :153\n",
      "153 is a Armstrong number\n"
     ]
    }
   ],
   "source": [
    "# ANS 4.\n",
    "a = input(\"enter a number :\")\n",
    "\n",
    "if int(a) == int(a[0])**3 + int(a[1])**3 + int(a[2])**3:\n",
    "    print(a,\"is a Armstrong number\")\n",
    "else:\n",
    "    print(a,\"is not a armstrong number\")"
   ]
  },
  {
   "cell_type": "markdown",
   "metadata": {},
   "source": [
    "# Q 5. Write a Python Program to Find Armstrong Number in an Interval?"
   ]
  },
  {
   "cell_type": "code",
   "execution_count": 8,
   "metadata": {},
   "outputs": [
    {
     "name": "stdout",
     "output_type": "stream",
     "text": [
      "enter number a: 100\n",
      "enter a number b :105\n"
     ]
    }
   ],
   "source": [
    "# ANS 5.\n",
    "a = int(input(\"enter number a: \"))\n",
    "b = int(input(\"enter a number b :\"))\n",
    "for i in range(a,b+1):\n",
    "    c = i\n",
    "    sum = 0\n",
    "    while c >0 :\n",
    "        r = c%10\n",
    "        sum  = sum +r**3\n",
    "        c=c // 10\n",
    "    if sum == i:\n",
    "        print(i,\"is a armstrong number\")\n",
    "        \n",
    "        "
   ]
  },
  {
   "cell_type": "markdown",
   "metadata": {},
   "source": [
    "# Q 6. Write a Python Program to Find the Sum of Natural Numbers?"
   ]
  },
  {
   "cell_type": "code",
   "execution_count": 2,
   "metadata": {},
   "outputs": [
    {
     "name": "stdout",
     "output_type": "stream",
     "text": [
      "enter number :153\n",
      "9 is a sum of a\n"
     ]
    }
   ],
   "source": [
    "# ANS 6.\n",
    "a = int(input(\"enter number :\"))\n",
    "b = a\n",
    "sum = 0\n",
    "while b!=0:\n",
    "    r = b%10\n",
    "    sum = sum +r\n",
    "    b = b//10\n",
    "print(sum,\"is a sum of a\")\n",
    "   "
   ]
  },
  {
   "cell_type": "code",
   "execution_count": null,
   "metadata": {},
   "outputs": [],
   "source": []
  }
 ],
 "metadata": {
  "kernelspec": {
   "display_name": "Python 3",
   "language": "python",
   "name": "python3"
  }
 },
 "nbformat": 4,
 "nbformat_minor": 2
}
