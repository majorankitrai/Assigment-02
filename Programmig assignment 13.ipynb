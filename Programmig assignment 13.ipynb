{
 "cells": [
  {
   "cell_type": "markdown",
   "metadata": {},
   "source": [
    "# Question 1:\n",
    "Write a program that calculates and prints the value according to the given formula:\n",
    "Q = Square root of [(2 * C * D)/H]\n",
    "Following are the fixed values of C and H:\n",
    "C is 50. H is 30.\n",
    "D is the variable whose values should be input to your program in a comma-separated\n",
    "sequence.\n",
    "Example\n",
    "Let us assume the following comma separated input sequence is given to the program:\n",
    "100,150,180\n",
    "The output of the program should be:\n",
    "18,22,24"
   ]
  },
  {
   "cell_type": "code",
   "execution_count": 2,
   "metadata": {},
   "outputs": [
    {
     "name": "stdout",
     "output_type": "stream",
     "text": [
      "enter D :100,150,180\n",
      "output: [18, 22, 24]\n"
     ]
    }
   ],
   "source": [
    "# ANS 1.\n",
    "import math\n",
    "value = input(\"enter D :\")\n",
    "value = value.split(',')\n",
    "C=50\n",
    "H = 30\n",
    "res = []\n",
    "for i in value:\n",
    "    Q = round(math.sqrt(2*C*int(i)/H))\n",
    "    res.append(Q)\n",
    "print(\"output:\",res)\n",
    "     "
   ]
  },
  {
   "cell_type": "markdown",
   "metadata": {},
   "source": [
    "# Question 2:\n",
    "Write a program which takes 2 digits, X,Y as input and generates a 2-dimensional array. The\n",
    "element value in the i-th row and j-th column of the array should be i*j.\n",
    "Note: i=0,1.., X-1; j=0,1,¡Y-1.\n",
    "Example\n",
    "Suppose the following inputs are given to the program:\n",
    "3,5\n",
    "Then, the output of the program should be:\n",
    "[[0, 0, 0, 0, 0], [0, 1, 2, 3, 4], [0, 2, 4, 6, 8]]"
   ]
  },
  {
   "cell_type": "code",
   "execution_count": 3,
   "metadata": {},
   "outputs": [
    {
     "name": "stdout",
     "output_type": "stream",
     "text": [
      "enter your row:3\n",
      "enter your column:5\n",
      "[[0, 0, 0, 0, 0], [0, 1, 2, 3, 4], [0, 2, 4, 6, 8]]\n"
     ]
    }
   ],
   "source": [
    "# ANS 2.\n",
    "import array as arr\n",
    "row = int(input(\"enter your row:\"))\n",
    "column = int(input(\"enter your column:\"))\n",
    "res = []\n",
    "for i in range(row):\n",
    "    res.insert(row,[])\n",
    "    for j in range(column):\n",
    "        res[i].append(i*j)\n",
    "print(res)"
   ]
  },
  {
   "cell_type": "markdown",
   "metadata": {},
   "source": [
    "# Question 3:\n",
    "Write a program that accepts a comma separated sequence of words as input and prints the\n",
    "words in a comma-separated sequence after sorting them alphabetically.\n",
    "Suppose the following input is supplied to the program:\n",
    "without,hello,bag,world\n",
    "Then, the output should be:\n",
    "bag,hello,without,world"
   ]
  },
  {
   "cell_type": "code",
   "execution_count": 5,
   "metadata": {},
   "outputs": [
    {
     "name": "stdout",
     "output_type": "stream",
     "text": [
      "enter your word :without,hello,bag,world\n",
      "outcomes : bag-hello-without-world\n"
     ]
    }
   ],
   "source": [
    "# ANS 3.\n",
    "word = input(\"enter your word :\")\n",
    "word = word.split(',')\n",
    "res = '-'.join(sorted(word))\n",
    "print(\"outcomes :\",res)"
   ]
  },
  {
   "cell_type": "markdown",
   "metadata": {},
   "source": [
    "# Question 4:\n",
    "Write a program that accepts a sequence of whitespace separated words as input and prints\n",
    "the words after removing all duplicate words and sorting them alphanumerically.\n",
    "Suppose the following input is supplied to the program:\n",
    "hello world and practice makes perfect and hello world again\n",
    "Then, the output should be:\n",
    "again and hello makes perfect practice world"
   ]
  },
  {
   "cell_type": "code",
   "execution_count": 8,
   "metadata": {},
   "outputs": [
    {
     "name": "stdout",
     "output_type": "stream",
     "text": [
      "enter your word :hello,world,and,practice,makes,perfect,and,hello,world,again\n",
      "outcomes : again and hello makes perfect practice world\n"
     ]
    }
   ],
   "source": [
    "# ANS 4.\n",
    "word = input(\"enter your word :\")\n",
    "word = word.split(',')\n",
    "res = \" \".join(sorted(list(set(word))))\n",
    "print(\"outcomes :\",res)"
   ]
  },
  {
   "cell_type": "markdown",
   "metadata": {},
   "source": [
    "# Question 5:\n",
    "Write a program that accepts a sentence and calculate the number of letters and digits.\n",
    "Suppose the following input is supplied to the program:\n",
    "hello world! 123\n",
    "Then, the output should be:\n",
    "LETTERS 10\n",
    "DIGITS 3"
   ]
  },
  {
   "cell_type": "code",
   "execution_count": 13,
   "metadata": {},
   "outputs": [
    {
     "name": "stdout",
     "output_type": "stream",
     "text": [
      "enter word :hello world! 123\n",
      "letter:  10\n",
      "digit : 3\n"
     ]
    }
   ],
   "source": [
    "# ANS 5.\n",
    "word = input(\"enter word :\")\n",
    "letter = 'abcdefghijklmnopqrstuvwxyzABCDEGHIKLMNOPQRSTUVWXYZ'\n",
    "digit = '0123456789'\n",
    "letter_count = 0\n",
    "digit_count =0\n",
    "for i in word:\n",
    "    if i in letter:\n",
    "        letter_count= letter_count+1\n",
    "    if i in digit:\n",
    "        digit_count = digit_count+1\n",
    "print(\"letter: \",letter_count)\n",
    "print(\"digit :\" ,digit_count)"
   ]
  },
  {
   "cell_type": "markdown",
   "metadata": {},
   "source": [
    "# Question 6:\n",
    "A website requires the users to input username and password to register. Write a program to\n",
    "check the validity of password input by users.\n",
    "Following are the criteria for checking the password:\n",
    "1. At least 1 letter between [a-z]\n",
    "2. At least 1 number between [0-9]\n",
    "1. At least 1 letter between [A-Z]\n",
    "3. At least 1 character from [$#@]\n",
    "4. Minimum length of transaction password: 6\n",
    "5. Maximum length of transaction password: 12\n",
    "Your program should accept a sequence of comma separated passwords and will check them\n",
    "according to the above criteria. Passwords that match the criteria are to be printed, each\n",
    "separated by a comma.\n",
    "Example\n",
    "If the following passwords are given as input to the program:\n",
    "ABd1234@1,a F1#,2w3E*,2We3345\n",
    "Then, the output of the program should be:\n",
    "ABd1234@1"
   ]
  },
  {
   "cell_type": "code",
   "execution_count": 7,
   "metadata": {},
   "outputs": [
    {
     "name": "stdout",
     "output_type": "stream",
     "text": [
      "enter your password :ABd1234@1,a F1#,2w3E*,2We3345\n"
     ]
    }
   ],
   "source": [
    "# ANS 6.\n",
    "password = input(\"enter your password :\")\n",
    "small_letter =\"abcdefghijklmnopqrstuvwxyz\"\n",
    "capital_letter=\"ABCDEFGHIJKLMNOPQRSTUVWXYZ\"\n",
    "digit='0123456789'\n",
    "special_char = '@#%'\n",
    "for i in password.split(','):\n",
    "    if len(i) <= 12 and len(i) >= 6:\n",
    "        if any(i.isupper() for j in i):\n",
    "            if any(i.lower() for j in i):\n",
    "                if any(j for j in i if j in special_char):\n",
    "                    print(i)"
   ]
  },
  {
   "cell_type": "code",
   "execution_count": null,
   "metadata": {},
   "outputs": [],
   "source": []
  }
 ],
 "metadata": {
  "kernelspec": {
   "display_name": "Python 3",
   "language": "python",
   "name": "python3"
  },
  "language_info": {
   "codemirror_mode": {
    "name": "ipython",
    "version": 3
   },
   "file_extension": ".py",
   "mimetype": "text/x-python",
   "name": "python",
   "nbconvert_exporter": "python",
   "pygments_lexer": "ipython3",
   "version": "3.6.5"
  }
 },
 "nbformat": 4,
 "nbformat_minor": 2
}
