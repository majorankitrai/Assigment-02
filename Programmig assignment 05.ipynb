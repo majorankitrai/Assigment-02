{
 "cells": [
  {
   "cell_type": "markdown",
   "metadata": {},
   "source": [
    "# Q 1. Write a Python Program to Find LCM?"
   ]
  },
  {
   "cell_type": "code",
   "execution_count": 1,
   "metadata": {},
   "outputs": [],
   "source": [
    "#ANS 1.\n",
    "def compute_lcm(n1,n2):\n",
    "    if n1>n2:\n",
    "        higher = n1\n",
    "    else:\n",
    "        higher = n2\n",
    "    value = higher\n",
    "    while True:\n",
    "        if higher%n1 ==0 and higher%n2==0:\n",
    "            print(\"lcm of n1\",n1,\"and\",n2,\"is\",higher)\n",
    "            break\n",
    "        else:\n",
    "            higher = higher + value\n",
    "            \n"
   ]
  },
  {
   "cell_type": "code",
   "execution_count": 2,
   "metadata": {},
   "outputs": [
    {
     "name": "stdout",
     "output_type": "stream",
     "text": [
      "lcm of n1 24 and 36 is 72\n"
     ]
    }
   ],
   "source": [
    "compute_lcm(24,36)"
   ]
  },
  {
   "cell_type": "markdown",
   "metadata": {},
   "source": [
    "# Q 2. Write a Python Program to Find HCF?"
   ]
  },
  {
   "cell_type": "code",
   "execution_count": 4,
   "metadata": {},
   "outputs": [
    {
     "name": "stdout",
     "output_type": "stream",
     "text": [
      "enter first number :8\n",
      "enter second number:2\n",
      "then the hcf of n1 and n2 is : 2\n"
     ]
    }
   ],
   "source": [
    "# ANS 2.\n",
    "n1 = int(input('enter first number :'))\n",
    "n2 =  int(input(\"enter second number:\"))\n",
    "if n1>n2:\n",
    "    mx = n1\n",
    "else:\n",
    "    mx = n2\n",
    "for i in range(1,mx+1):\n",
    "    if n1%i==0 and n2%i==0:\n",
    "        hcf = i\n",
    "print(\"then the hcf of n1 and n2 is :\",hcf)        \n",
    "        \n",
    "    "
   ]
  },
  {
   "cell_type": "code",
   "execution_count": 5,
   "metadata": {},
   "outputs": [],
   "source": [
    "def a(n1,n2):\n",
    "    if n2 == 0:\n",
    "        return n1\n",
    "    else:\n",
    "        return a(n2,n1%n2)"
   ]
  },
  {
   "cell_type": "code",
   "execution_count": 6,
   "metadata": {},
   "outputs": [
    {
     "data": {
      "text/plain": [
       "2"
      ]
     },
     "execution_count": 6,
     "metadata": {},
     "output_type": "execute_result"
    }
   ],
   "source": [
    "a(8,2)"
   ]
  },
  {
   "cell_type": "markdown",
   "metadata": {},
   "source": [
    "# Q 3. Write a Python Program to Convert Decimal to Binary, Octal and Hexadecimal?"
   ]
  },
  {
   "cell_type": "code",
   "execution_count": 6,
   "metadata": {},
   "outputs": [
    {
     "name": "stdout",
     "output_type": "stream",
     "text": [
      "enter your number:16\n",
      "0b10000\n",
      "0o20\n",
      "0x10\n"
     ]
    }
   ],
   "source": [
    "#ANS 3.\n",
    "n = int(input(\"enter your number:\"))\n",
    "print(bin(n))\n",
    "print(oct(n))\n",
    "print(hex(n))"
   ]
  },
  {
   "cell_type": "code",
   "execution_count": 1,
   "metadata": {},
   "outputs": [
    {
     "name": "stdout",
     "output_type": "stream",
     "text": [
      "choose the operation :\n",
      "1.Addition\n",
      "2.subtraction\n",
      "3.multiply\n",
      "4.divide\n",
      "enter your operation (1/2/3/4) :3\n",
      "enter your 1st number :5\n",
      "enter your 2nd number :5\n",
      "5.0 * 5.0 = 25.0\n",
      "enter your order (yes/no) :no\n"
     ]
    }
   ],
   "source": [
    "def add(x,y):\n",
    "    return x+y\n",
    "def subtract(x,y):\n",
    "    return x - y\n",
    "def multiply(x,y):\n",
    "    return x*y\n",
    "def divide(x,y):\n",
    "    return x//y\n",
    "\n",
    "print(\"choose the operation :\")\n",
    "print(\"1.Addition\")\n",
    "print(\"2.subtraction\")\n",
    "print(\"3.multiply\")\n",
    "print(\"4.divide\")\n",
    "\n",
    "while True:\n",
    "    choice = input(\"enter your operation (1/2/3/4) :\")\n",
    "    if choice in (\"1\",\"2\",\"3\",\"4\"):\n",
    "        a = float(input(\"enter your 1st number :\"))\n",
    "        b = float(input(\"enter your 2nd number :\"))\n",
    "        if choice == \"1\":\n",
    "            print(a,\"+\",b,\"=\",add(a,b))\n",
    "        elif choice == \"2\":\n",
    "            print(a,\"-\",b,\"=\",subtract(a,b))\n",
    "        elif choice == \"3\":\n",
    "            print(a,\"*\",b,\"=\",multiply(a,b))\n",
    "        elif choice == \"4\":\n",
    "            print(a,\"//\",b,\"=\",divide(a,b))\n",
    "        \n",
    "        \n",
    "        calculate_decide = input(\"enter your order (yes/no) :\")\n",
    "        if calculate_decide == \"no\":\n",
    "            break\n",
    "    else :\n",
    "        print(\"invalid choice\")"
   ]
  },
  {
   "cell_type": "code",
   "execution_count": null,
   "metadata": {},
   "outputs": [],
   "source": []
  }
 ],
 "metadata": {
  "kernelspec": {
   "display_name": "Python 3",
   "language": "python",
   "name": "python3"
  },
  "language_info": {
   "codemirror_mode": {
    "name": "ipython",
    "version": 3
   },
   "file_extension": ".py",
   "mimetype": "text/x-python",
   "name": "python",
   "nbconvert_exporter": "python",
   "pygments_lexer": "ipython3",
   "version": "3.6.5"
  }
 },
 "nbformat": 4,
 "nbformat_minor": 2
}
