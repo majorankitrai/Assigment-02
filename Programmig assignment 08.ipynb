{
 "cells": [
  {
   "cell_type": "markdown",
   "metadata": {},
   "source": [
    "# Q 1. Write a Python Program to Add Two Matrices?"
   ]
  },
  {
   "cell_type": "code",
   "execution_count": 20,
   "metadata": {},
   "outputs": [
    {
     "name": "stdout",
     "output_type": "stream",
     "text": [
      "[10, 10, 10]\n",
      "[10, 10, 10]\n",
      "[10, 10, 10]\n"
     ]
    }
   ],
   "source": [
    "#ANS 1.\n",
    "X= [[1,2,3],\n",
    "    [4 ,5,6],\n",
    "    [7 ,8,9]]\n",
    " \n",
    "Y = [[9,8,7],\n",
    "    [6,5,4],\n",
    "    [3,2,1]]\n",
    "\n",
    "result = [[0,0,0],\n",
    "        [0,0,0],\n",
    "        [0,0,0]]\n",
    " \n",
    "\n",
    "for i in range(len(X)):\n",
    "    for j in range(len(X[0])):\n",
    "        result [i][j] = X[i][j] + Y[i][j]\n",
    "        \n",
    "for r in result:\n",
    "    print(r)\n",
    "        \n",
    "        \n",
    "                                      \n",
    "                                "
   ]
  },
  {
   "cell_type": "markdown",
   "metadata": {},
   "source": [
    "# Q 2. Write a Python Program to Multiply Two Matrices?"
   ]
  },
  {
   "cell_type": "code",
   "execution_count": 32,
   "metadata": {},
   "outputs": [
    {
     "name": "stdout",
     "output_type": "stream",
     "text": [
      "[114, 160, 60, 27]\n",
      "[74, 97, 73, 14]\n",
      "[119, 157, 112, 23]\n"
     ]
    }
   ],
   "source": [
    "# ANS 2.\n",
    "A = [[12, 7, 3],\n",
    "    [4, 5, 6],\n",
    "    [7, 8, 9]]\n",
    "B = [[5, 8, 1, 2],\n",
    "    [6, 7, 3, 0],\n",
    "    [4, 5, 9, 1]]\n",
    "\n",
    "result = [[0, 0, 0, 0],\n",
    "        [0, 0, 0, 0],\n",
    "        [0, 0, 0, 0]]\n",
    "for i in range(len(A)):\n",
    "    for j in range(len(B[0])):\n",
    "        \n",
    "        for k in range(len(B)):\n",
    "            result[i][j] += A[i][k]*B[k][j]\n",
    "for r in result:\n",
    "    print(r)\n",
    " \n"
   ]
  },
  {
   "cell_type": "markdown",
   "metadata": {},
   "source": [
    "# Q 3. Write a Python Program to Transpose a Matrix?"
   ]
  },
  {
   "cell_type": "code",
   "execution_count": 35,
   "metadata": {},
   "outputs": [
    {
     "name": "stdout",
     "output_type": "stream",
     "text": [
      "Result matrix is\n",
      "1  2  3  \n",
      "1  2  3  \n",
      "1  2  3  \n",
      "1  2  3  \n"
     ]
    }
   ],
   "source": [
    "# ANS 3.\n",
    "M = 3\n",
    "N = 4\n",
    " \n",
    "def transpose(A, B):\n",
    "    for i in range(N):\n",
    "        for j in range(M):\n",
    "                B[i][j] = A[j][i]\n",
    "A = [ [1, 1, 1, 1],\n",
    "    [2, 2, 2, 2],\n",
    "    [3, 3, 3, 3]]\n",
    " \n",
    " \n",
    "B = [[0 for x in range(M)] for y in range(N)]\n",
    " \n",
    "transpose(A, B)\n",
    " \n",
    "print(\"Result matrix is\")\n",
    "for i in range(N):\n",
    "    for j in range(M):\n",
    "        print(B[i][j], \" \", end='')\n",
    "    print() "
   ]
  },
  {
   "cell_type": "markdown",
   "metadata": {},
   "source": [
    "# Q 4. Write a Python Program to Sort Words in Alphabetic Order?"
   ]
  },
  {
   "cell_type": "code",
   "execution_count": 40,
   "metadata": {},
   "outputs": [
    {
     "name": "stdout",
     "output_type": "stream",
     "text": [
      "anisonezero\n"
     ]
    }
   ],
   "source": [
    "# ANS 4.\n",
    "def f(s):\n",
    "    w = s.split()\n",
    "    for i in range(len(w)):\n",
    "        w[i] = w[i].lower()\n",
    "    w.sort()\n",
    "    return ''.join(w)\n",
    "s = \"zero is one an\"\n",
    "print(f(s))"
   ]
  },
  {
   "cell_type": "markdown",
   "metadata": {},
   "source": [
    "# Q 5. Write a Python Program to Remove Punctuation From a String?"
   ]
  },
  {
   "cell_type": "code",
   "execution_count": 46,
   "metadata": {},
   "outputs": [
    {
     "name": "stdout",
     "output_type": "stream",
     "text": [
      "after remove punctuation :ankitis good  man\n"
     ]
    }
   ],
   "source": [
    "# ANS 5.\n",
    "a = \"ankit,is good ! ,man\"\n",
    "p = ''',!'''\n",
    "for i in a:\n",
    "     if i in p:\n",
    "            a = a.replace(i,\"\")\n",
    "print(\"after remove punctuation :\" + a)"
   ]
  },
  {
   "cell_type": "code",
   "execution_count": null,
   "metadata": {},
   "outputs": [],
   "source": []
  }
 ],
 "metadata": {
  "kernelspec": {
   "display_name": "Python 3",
   "language": "python",
   "name": "python3"
  },
  "language_info": {
   "codemirror_mode": {
    "name": "ipython",
    "version": 3
   },
   "file_extension": ".py",
   "mimetype": "text/x-python",
   "name": "python",
   "nbconvert_exporter": "python",
   "pygments_lexer": "ipython3",
   "version": "3.6.5"
  }
 },
 "nbformat": 4,
 "nbformat_minor": 2
}
